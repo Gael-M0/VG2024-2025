{
 "cells": [
  {
   "cell_type": "code",
   "execution_count": null,
   "metadata": {},
   "outputs": [],
   "source": [
    "## una base de datos, sacar los posibles factores que retrasan los vuelos\n",
    "# leer el csv con python\n",
    "# meter en un dataframe el archivo\n",
    "# limpiar los datos( elimira valores nulos, etc)\n",
    "# generar estadisticas para verificar que tipos de datos son"
   ]
  }
 ],
 "metadata": {
  "language_info": {
   "name": "python"
  }
 },
 "nbformat": 4,
 "nbformat_minor": 2
}
