{
 "cells": [
  {
   "cell_type": "markdown",
   "metadata": {},
   "source": [
    "# Flights Data Exploration Challenge\n",
    "\n",
    "In this challenge, you'll explore a real-world dataset containing flights data from the US Department of Transportation.\n",
    "\n",
    "Let's start by loading and viewing the data."
   ]
  },
  {
   "cell_type": "code",
   "execution_count": 15,
   "metadata": {},
   "outputs": [
    {
     "data": {
      "text/html": [
       "<div>\n",
       "<style scoped>\n",
       "    .dataframe tbody tr th:only-of-type {\n",
       "        vertical-align: middle;\n",
       "    }\n",
       "\n",
       "    .dataframe tbody tr th {\n",
       "        vertical-align: top;\n",
       "    }\n",
       "\n",
       "    .dataframe thead th {\n",
       "        text-align: right;\n",
       "    }\n",
       "</style>\n",
       "<table border=\"1\" class=\"dataframe\">\n",
       "  <thead>\n",
       "    <tr style=\"text-align: right;\">\n",
       "      <th></th>\n",
       "      <th>Year</th>\n",
       "      <th>Month</th>\n",
       "      <th>DayofMonth</th>\n",
       "      <th>DayOfWeek</th>\n",
       "      <th>Carrier</th>\n",
       "      <th>OriginAirportID</th>\n",
       "      <th>OriginAirportName</th>\n",
       "      <th>OriginCity</th>\n",
       "      <th>OriginState</th>\n",
       "      <th>DestAirportID</th>\n",
       "      <th>DestAirportName</th>\n",
       "      <th>DestCity</th>\n",
       "      <th>DestState</th>\n",
       "      <th>CRSDepTime</th>\n",
       "      <th>DepDelay</th>\n",
       "      <th>DepDel15</th>\n",
       "      <th>CRSArrTime</th>\n",
       "      <th>ArrDelay</th>\n",
       "      <th>ArrDel15</th>\n",
       "      <th>Cancelled</th>\n",
       "    </tr>\n",
       "  </thead>\n",
       "  <tbody>\n",
       "    <tr>\n",
       "      <th>0</th>\n",
       "      <td>2013</td>\n",
       "      <td>9</td>\n",
       "      <td>16</td>\n",
       "      <td>1</td>\n",
       "      <td>DL</td>\n",
       "      <td>15304</td>\n",
       "      <td>Tampa International</td>\n",
       "      <td>Tampa</td>\n",
       "      <td>FL</td>\n",
       "      <td>12478</td>\n",
       "      <td>John F. Kennedy International</td>\n",
       "      <td>New York</td>\n",
       "      <td>NY</td>\n",
       "      <td>1539</td>\n",
       "      <td>4</td>\n",
       "      <td>0.0</td>\n",
       "      <td>1824</td>\n",
       "      <td>13</td>\n",
       "      <td>0</td>\n",
       "      <td>0</td>\n",
       "    </tr>\n",
       "    <tr>\n",
       "      <th>1</th>\n",
       "      <td>2013</td>\n",
       "      <td>9</td>\n",
       "      <td>23</td>\n",
       "      <td>1</td>\n",
       "      <td>WN</td>\n",
       "      <td>14122</td>\n",
       "      <td>Pittsburgh International</td>\n",
       "      <td>Pittsburgh</td>\n",
       "      <td>PA</td>\n",
       "      <td>13232</td>\n",
       "      <td>Chicago Midway International</td>\n",
       "      <td>Chicago</td>\n",
       "      <td>IL</td>\n",
       "      <td>710</td>\n",
       "      <td>3</td>\n",
       "      <td>0.0</td>\n",
       "      <td>740</td>\n",
       "      <td>22</td>\n",
       "      <td>1</td>\n",
       "      <td>0</td>\n",
       "    </tr>\n",
       "    <tr>\n",
       "      <th>2</th>\n",
       "      <td>2013</td>\n",
       "      <td>9</td>\n",
       "      <td>7</td>\n",
       "      <td>6</td>\n",
       "      <td>AS</td>\n",
       "      <td>14747</td>\n",
       "      <td>Seattle/Tacoma International</td>\n",
       "      <td>Seattle</td>\n",
       "      <td>WA</td>\n",
       "      <td>11278</td>\n",
       "      <td>Ronald Reagan Washington National</td>\n",
       "      <td>Washington</td>\n",
       "      <td>DC</td>\n",
       "      <td>810</td>\n",
       "      <td>-3</td>\n",
       "      <td>0.0</td>\n",
       "      <td>1614</td>\n",
       "      <td>-7</td>\n",
       "      <td>0</td>\n",
       "      <td>0</td>\n",
       "    </tr>\n",
       "    <tr>\n",
       "      <th>3</th>\n",
       "      <td>2013</td>\n",
       "      <td>7</td>\n",
       "      <td>22</td>\n",
       "      <td>1</td>\n",
       "      <td>OO</td>\n",
       "      <td>13930</td>\n",
       "      <td>Chicago O'Hare International</td>\n",
       "      <td>Chicago</td>\n",
       "      <td>IL</td>\n",
       "      <td>11042</td>\n",
       "      <td>Cleveland-Hopkins International</td>\n",
       "      <td>Cleveland</td>\n",
       "      <td>OH</td>\n",
       "      <td>804</td>\n",
       "      <td>35</td>\n",
       "      <td>1.0</td>\n",
       "      <td>1027</td>\n",
       "      <td>33</td>\n",
       "      <td>1</td>\n",
       "      <td>0</td>\n",
       "    </tr>\n",
       "    <tr>\n",
       "      <th>4</th>\n",
       "      <td>2013</td>\n",
       "      <td>5</td>\n",
       "      <td>16</td>\n",
       "      <td>4</td>\n",
       "      <td>DL</td>\n",
       "      <td>13931</td>\n",
       "      <td>Norfolk International</td>\n",
       "      <td>Norfolk</td>\n",
       "      <td>VA</td>\n",
       "      <td>10397</td>\n",
       "      <td>Hartsfield-Jackson Atlanta International</td>\n",
       "      <td>Atlanta</td>\n",
       "      <td>GA</td>\n",
       "      <td>545</td>\n",
       "      <td>-1</td>\n",
       "      <td>0.0</td>\n",
       "      <td>728</td>\n",
       "      <td>-9</td>\n",
       "      <td>0</td>\n",
       "      <td>0</td>\n",
       "    </tr>\n",
       "  </tbody>\n",
       "</table>\n",
       "</div>"
      ],
      "text/plain": [
       "   Year  Month  DayofMonth  DayOfWeek Carrier  OriginAirportID  \\\n",
       "0  2013      9          16          1      DL            15304   \n",
       "1  2013      9          23          1      WN            14122   \n",
       "2  2013      9           7          6      AS            14747   \n",
       "3  2013      7          22          1      OO            13930   \n",
       "4  2013      5          16          4      DL            13931   \n",
       "\n",
       "              OriginAirportName  OriginCity OriginState  DestAirportID  \\\n",
       "0           Tampa International       Tampa          FL          12478   \n",
       "1      Pittsburgh International  Pittsburgh          PA          13232   \n",
       "2  Seattle/Tacoma International     Seattle          WA          11278   \n",
       "3  Chicago O'Hare International     Chicago          IL          11042   \n",
       "4         Norfolk International     Norfolk          VA          10397   \n",
       "\n",
       "                            DestAirportName    DestCity DestState  CRSDepTime  \\\n",
       "0             John F. Kennedy International    New York        NY        1539   \n",
       "1              Chicago Midway International     Chicago        IL         710   \n",
       "2         Ronald Reagan Washington National  Washington        DC         810   \n",
       "3           Cleveland-Hopkins International   Cleveland        OH         804   \n",
       "4  Hartsfield-Jackson Atlanta International     Atlanta        GA         545   \n",
       "\n",
       "   DepDelay  DepDel15  CRSArrTime  ArrDelay  ArrDel15  Cancelled  \n",
       "0         4       0.0        1824        13         0          0  \n",
       "1         3       0.0         740        22         1          0  \n",
       "2        -3       0.0        1614        -7         0          0  \n",
       "3        35       1.0        1027        33         1          0  \n",
       "4        -1       0.0         728        -9         0          0  "
      ]
     },
     "execution_count": 15,
     "metadata": {},
     "output_type": "execute_result"
    }
   ],
   "source": [
    "import pandas as pd\n",
    "\n",
    "df_flights = pd.read_csv('flights.csv')\n",
    "df_flights.head()"
   ]
  },
  {
   "cell_type": "markdown",
   "metadata": {},
   "source": [
    "The dataset contains observations of US domestic flights in 2013, and consists of the following fields:\n",
    "\n",
    "- **Year**: The year of the flight (all records are from 2013)\n",
    "- **Month**: The month of the flight\n",
    "- **DayofMonth**: The day of the month on which the flight departed\n",
    "- **DayOfWeek**: The day of the week on which the flight departed - from 1 (Monday) to 7 (Sunday)\n",
    "- **Carrier**: The two-letter abbreviation for the airline.\n",
    "- **OriginAirportID**: A unique numeric identifier for the departure aiport\n",
    "- **OriginAirportName**: The full name of the departure airport\n",
    "- **OriginCity**: The departure airport city\n",
    "- **OriginState**: The departure airport state\n",
    "- **DestAirportID**: A unique numeric identifier for the destination aiport\n",
    "- **DestAirportName**: The full name of the destination airport\n",
    "- **DestCity**: The destination airport city\n",
    "- **DestState**: The destination airport state\n",
    "- **CRSDepTime**: The scheduled departure time\n",
    "- **DepDelay**: The number of minutes departure was delayed (flight that left ahead of schedule have a negative value)\n",
    "- **DelDelay15**: A binary indicator that departure was delayed by more than 15 minutes (and therefore considered \"late\")\n",
    "- **CRSArrTime**: The scheduled arrival time\n",
    "- **ArrDelay**: The number of minutes arrival was delayed (flight that arrived ahead of schedule have a negative value)\n",
    "- **ArrDelay15**: A binary indicator that arrival was delayed by more than 15 minutes (and therefore considered \"late\")\n",
    "- **Cancelled**: A binary indicator that the flight was cancelled\n",
    "\n",
    "Your challenge is to explore the flight data to analyze possible factors that affect delays in departure or arrival of a flight.\n",
    "\n",
    "1. Start by cleaning the data.\n",
    "    R - Identify any null or missing data, and impute appropriate replacement values.\n",
    "    R - Identify and eliminate any outliers in the **DepDelay** and **ArrDelay** columns.\n",
    "2. Explore the cleaned data.\n",
    "    R - View summary statistics for the numeric fields in the dataset.\n",
    "    R - Determine the distribution of the **DepDelay** and **ArrDelay** columns.\n",
    "    - Use statistics, aggregate functions, and visualizations to answer the following questions:\n",
    "        R - *What are the average (mean) departure and arrival delays?*\n",
    "        R - *How do the carriers compare in terms of arrival delay performance?*\n",
    "        R - *Is there a noticable difference in arrival delays for different days of the week?*\n",
    "        R - *Which departure airport has the highest average departure delay?*\n",
    "        * - *Do **late** departures tend to result in longer arrival delays than on-time departures?*\n",
    "        * - *Which route (from origin airport to destination airport) has the most **late** arrivals?*\n",
    "        R - *Which route has the highest average arrival delay?*\n",
    "        \n",
    "Add markdown and code cells as required to create your solution.\n"
   ]
  },
  {
   "cell_type": "code",
   "execution_count": 16,
   "metadata": {},
   "outputs": [
    {
     "name": "stdout",
     "output_type": "stream",
     "text": [
      "Year                    0\n",
      "Month                   0\n",
      "DayofMonth              0\n",
      "DayOfWeek               0\n",
      "Carrier                 0\n",
      "OriginAirportID         0\n",
      "OriginAirportName       0\n",
      "OriginCity              0\n",
      "OriginState             0\n",
      "DestAirportID           0\n",
      "DestAirportName         0\n",
      "DestCity                0\n",
      "DestState               0\n",
      "CRSDepTime              0\n",
      "DepDelay                0\n",
      "DepDel15             2761\n",
      "CRSArrTime              0\n",
      "ArrDelay                0\n",
      "ArrDel15                0\n",
      "Cancelled               0\n",
      "dtype: int64\n"
     ]
    },
    {
     "name": "stderr",
     "output_type": "stream",
     "text": [
      "C:\\Users\\LENOVO\\AppData\\Local\\Temp\\ipykernel_24768\\1772435072.py:7: FutureWarning: A value is trying to be set on a copy of a DataFrame or Series through chained assignment using an inplace method.\n",
      "The behavior will change in pandas 3.0. This inplace method will never work because the intermediate object on which we are setting values always behaves as a copy.\n",
      "\n",
      "For example, when doing 'df[col].method(value, inplace=True)', try using 'df.method({col: value}, inplace=True)' or df[col] = df[col].method(value) instead, to perform the operation inplace on the original object.\n",
      "\n",
      "\n",
      "  df_flights['DepDelay'].fillna(0, inplace=True)\n",
      "C:\\Users\\LENOVO\\AppData\\Local\\Temp\\ipykernel_24768\\1772435072.py:8: FutureWarning: A value is trying to be set on a copy of a DataFrame or Series through chained assignment using an inplace method.\n",
      "The behavior will change in pandas 3.0. This inplace method will never work because the intermediate object on which we are setting values always behaves as a copy.\n",
      "\n",
      "For example, when doing 'df[col].method(value, inplace=True)', try using 'df.method({col: value}, inplace=True)' or df[col] = df[col].method(value) instead, to perform the operation inplace on the original object.\n",
      "\n",
      "\n",
      "  df_flights['ArrDelay'].fillna(0, inplace=True)\n"
     ]
    }
   ],
   "source": [
    "# ¿Hay valores nulos en el dataset?\n",
    "# Verificar si hay valores nulos\n",
    "print(df_flights.isnull().sum())\n",
    "\n",
    "# ¿Cómo tratar los valores nulos en las columnas de retrasos?\n",
    "# Reemplazar valores nulos en las columnas de retrasos con 0 (asumiendo que si está vacío, no hubo retraso)\n",
    "df_flights['DepDelay'].fillna(0, inplace=True)\n",
    "df_flights['ArrDelay'].fillna(0, inplace=True)\n",
    "\n",
    "# O eliminar filas con valores nulos\n",
    "df_flights.dropna(inplace=True)\n"
   ]
  },
  {
   "cell_type": "code",
   "execution_count": 17,
   "metadata": {},
   "outputs": [],
   "source": [
    "# ¿Existen valores atípicos en los retrasos extremos?\n",
    "# Definir un umbral para los retrasos, por ejemplo, eliminar vuelos con retrasos mayores a 1,000 minutos\n",
    "df_flights = df_flights[df_flights['DepDelay'] <= 1000]\n",
    "df_flights = df_flights[df_flights['ArrDelay'] <= 1000]\n"
   ]
  },
  {
   "cell_type": "code",
   "execution_count": 18,
   "metadata": {},
   "outputs": [
    {
     "name": "stdout",
     "output_type": "stream",
     "text": [
      "           Year          Month     DayofMonth      DayOfWeek  OriginAirportID  \\\n",
      "count  269170.0  269170.000000  269170.000000  269170.000000    269170.000000   \n",
      "mean     2013.0       6.983921      15.817413       3.902370     12744.752632   \n",
      "std         0.0       1.983862       8.805969       1.989297      1501.945919   \n",
      "min      2013.0       4.000000       1.000000       1.000000     10140.000000   \n",
      "25%      2013.0       5.000000       8.000000       2.000000     11292.000000   \n",
      "50%      2013.0       7.000000      16.000000       4.000000     12892.000000   \n",
      "75%      2013.0       9.000000      23.000000       6.000000     14057.000000   \n",
      "max      2013.0      10.000000      31.000000       7.000000     15376.000000   \n",
      "\n",
      "       DestAirportID     CRSDepTime       DepDelay       DepDel15  \\\n",
      "count  269170.000000  269170.000000  269170.000000  269170.000000   \n",
      "mean    12739.446807    1324.417799      10.414225       0.201107   \n",
      "std      1503.517863     470.760283      35.078076       0.400829   \n",
      "min     10140.000000       1.000000     -63.000000       0.000000   \n",
      "25%     11292.000000     920.000000      -4.000000       0.000000   \n",
      "50%     12892.000000    1319.000000      -1.000000       0.000000   \n",
      "75%     14057.000000    1722.000000       9.000000       0.000000   \n",
      "max     15376.000000    2359.000000     977.000000       1.000000   \n",
      "\n",
      "          CRSArrTime       ArrDelay       ArrDel15      Cancelled  \n",
      "count  269170.000000  269170.000000  269170.000000  269170.000000  \n",
      "mean     1504.638236       6.520262       0.207861       0.000576  \n",
      "std       493.218420      37.687807       0.405778       0.023990  \n",
      "min         1.000000     -75.000000       0.000000       0.000000  \n",
      "25%      1119.000000     -11.000000       0.000000       0.000000  \n",
      "50%      1527.000000      -3.000000       0.000000       0.000000  \n",
      "75%      1917.000000      10.000000       0.000000       0.000000  \n",
      "max      2359.000000     977.000000       1.000000       1.000000  \n"
     ]
    },
    {
     "data": {
      "text/plain": [
       "array([[<Axes: title={'center': 'DepDelay'}>,\n",
       "        <Axes: title={'center': 'ArrDelay'}>]], dtype=object)"
      ]
     },
     "execution_count": 18,
     "metadata": {},
     "output_type": "execute_result"
    },
    {
     "data": {
      "image/png": "[encoded data removed]",
      "text/plain": [
       "<Figure size 1000x500 with 2 Axes>"
      ]
     },
     "metadata": {},
     "output_type": "display_data"
    }
   ],
   "source": [
    "# ¿Cuáles son las estadísticas descriptivas generales del dataset?\n",
    "# Ver estadísticas descriptivas de las columnas numéricas\n",
    "print(df_flights.describe())\n",
    "\n",
    "# ¿Cuál es la distribución de los retrasos de salida y llegada?\n",
    "# Ver la distribución de los retrasos de salida y llegada\n",
    "df_flights[['DepDelay', 'ArrDelay']].hist(bins=50, figsize=(10, 5))\n"
   ]
  },
  {
   "cell_type": "code",
   "execution_count": 19,
   "metadata": {},
   "outputs": [
    {
     "name": "stdout",
     "output_type": "stream",
     "text": [
      "Retraso promedio de salida: 10.41 minutos\n",
      "Retraso promedio de llegada: 6.52 minutos\n"
     ]
    }
   ],
   "source": [
    "# ¿Cuál es el retraso promedio de salida y llegada?\n",
    "avg_dep_delay = df_flights['DepDelay'].mean()\n",
    "avg_arr_delay = df_flights['ArrDelay'].mean()\n",
    "\n",
    "print(f\"Retraso promedio de salida: {avg_dep_delay:.2f} minutos\")\n",
    "print(f\"Retraso promedio de llegada: {avg_arr_delay:.2f} minutos\")\n"
   ]
  },
  {
   "cell_type": "code",
   "execution_count": 20,
   "metadata": {},
   "outputs": [
    {
     "name": "stdout",
     "output_type": "stream",
     "text": [
      "Retraso promedio por aerolínea:\n",
      "Carrier\n",
      "AS    -0.129887\n",
      "HA     0.820458\n",
      "DL     2.420039\n",
      "US     4.040999\n",
      "UA     4.885221\n",
      "9E     5.256995\n",
      "OO     6.153706\n",
      "AA     7.096886\n",
      "FL     7.662590\n",
      "YV     8.033918\n",
      "WN     8.114542\n",
      "VX     9.464629\n",
      "B6     9.875243\n",
      "EV    10.388515\n",
      "F9    11.469873\n",
      "MQ    13.502385\n",
      "Name: ArrDelay, dtype: float64\n"
     ]
    }
   ],
   "source": [
    "# ¿Cuál es el retraso promedio por aerolínea?\n",
    "# Agrupar por aerolínea y calcular el retraso promedio de llegada\n",
    "carrier_arr_delay = df_flights.groupby('Carrier')['ArrDelay'].mean().sort_values()\n",
    "\n",
    "print(\"Retraso promedio por aerolínea:\")\n",
    "print(carrier_arr_delay)\n"
   ]
  },
  {
   "cell_type": "code",
   "execution_count": 21,
   "metadata": {},
   "outputs": [
    {
     "name": "stdout",
     "output_type": "stream",
     "text": [
      "Retraso promedio por día de la semana:\n",
      "DayOfWeek\n",
      "Lunes         6.784885\n",
      "Martes        4.293584\n",
      "Miércoles     7.022472\n",
      "Jueves       10.827256\n",
      "Viernes       8.525479\n",
      "Sábado        2.152108\n",
      "Domingo       4.998399\n",
      "Name: ArrDelay, dtype: float64\n"
     ]
    }
   ],
   "source": [
    "# ¿Existe una diferencia notable en los retrasos de llegada según el día de la semana?\n",
    "# Agrupar por día de la semana y calcular el retraso promedio de llegada\n",
    "day_of_week_mapping = {\n",
    "    1: 'Lunes',\n",
    "    2: 'Martes',\n",
    "    3: 'Miércoles',\n",
    "    4: 'Jueves',\n",
    "    5: 'Viernes',\n",
    "    6: 'Sábado',\n",
    "    7: 'Domingo'\n",
    "}\n",
    "\n",
    "# Calcular el retraso promedio y renombrar los índices\n",
    "dayofweek_arr_delay = df_flights.groupby('DayOfWeek')['ArrDelay'].mean().rename(index=day_of_week_mapping)\n",
    "\n",
    "print(\"Retraso promedio por día de la semana:\")\n",
    "print(dayofweek_arr_delay)\n"
   ]
  },
  {
   "cell_type": "code",
   "execution_count": 22,
   "metadata": {},
   "outputs": [
    {
     "name": "stdout",
     "output_type": "stream",
     "text": [
      "Aeropuerto con mayor retraso promedio en la salida:\n",
      "OriginAirportName\n",
      "Chicago O'Hare International    16.656477\n",
      "Name: DepDelay, dtype: float64\n"
     ]
    }
   ],
   "source": [
    "# ¿Cuál es el aeropuerto de origen con mayor retraso promedio en la salida?\n",
    "# Agrupar por aeropuerto de origen y calcular el retraso promedio de salida\n",
    "origin_airport_dep_delay = df_flights.groupby('OriginAirportName')['DepDelay'].mean().sort_values(ascending=False)\n",
    "\n",
    "print(\"Aeropuerto con mayor retraso promedio en la salida:\")\n",
    "print(origin_airport_dep_delay.head(1))\n"
   ]
  },
  {
   "cell_type": "code",
   "execution_count": 23,
   "metadata": {},
   "outputs": [
    {
     "name": "stdout",
     "output_type": "stream",
     "text": [
      "Comparación de llegadas según salidas tardías:\n",
      "DepDelay\n",
      "16      12.310804\n",
      "17      12.900165\n",
      "18      13.878944\n",
      "19      13.740293\n",
      "20      16.388288\n",
      "          ...    \n",
      "831    811.000000\n",
      "865    852.000000\n",
      "914    907.000000\n",
      "970    960.000000\n",
      "977    977.000000\n",
      "Name: ArrDelay, Length: 473, dtype: float64\n"
     ]
    }
   ],
   "source": [
    "# ¿Las salidas tardías tienden a provocar mayores retrasos en la llegada?\n",
    "# Comparar vuelos con salidas tardías (> 15 minutos de retraso) y su retraso en la llegada\n",
    "late_departures = df_flights[df_flights['DepDelay'] > 15]\n",
    "late_vs_ontime_arr_delay = late_departures.groupby('DepDelay')['ArrDelay'].mean()\n",
    "\n",
    "print(\"Comparación de llegadas según salidas tardías:\")\n",
    "print(late_vs_ontime_arr_delay)\n"
   ]
  },
  {
   "cell_type": "code",
   "execution_count": 24,
   "metadata": {},
   "outputs": [
    {
     "name": "stdout",
     "output_type": "stream",
     "text": [
      "Ruta con más llegadas tarde:\n",
      "Route\n",
      "Los Angeles International -> San Francisco International    286\n",
      "Name: count, dtype: int64\n"
     ]
    }
   ],
   "source": [
    "# ¿Cuál es la ruta con más llegadas tarde?\n",
    "# Crear una columna de ruta combinando aeropuerto de origen y destino\n",
    "df_flights['Route'] = df_flights['OriginAirportName'] + \" -> \" + df_flights['DestAirportName']\n",
    "\n",
    "# Filtrar vuelos con llegadas tarde (> 15 minutos de retraso)\n",
    "late_arrivals = df_flights[df_flights['ArrDelay'] > 15]\n",
    "\n",
    "# Agrupar por ruta y contar las llegadas tarde\n",
    "late_arrivals_by_route = late_arrivals['Route'].value_counts()\n",
    "\n",
    "print(\"Ruta con más llegadas tarde:\")\n",
    "print(late_arrivals_by_route.head(1))\n"
   ]
  },
  {
   "cell_type": "code",
   "execution_count": 25,
   "metadata": {},
   "outputs": [
    {
     "name": "stdout",
     "output_type": "stream",
     "text": [
      "Ruta con mayor retraso promedio en la llegada:\n",
      "Route\n",
      "Southwest Florida International -> Denver International    81.0\n",
      "Name: ArrDelay, dtype: float64\n"
     ]
    }
   ],
   "source": [
    "# ¿Cuál es la ruta con mayor retraso promedio en la llegada?\n",
    "# Agrupar por ruta y calcular el retraso promedio de llegada\n",
    "avg_arr_delay_by_route = df_flights.groupby('Route')['ArrDelay'].mean().sort_values(ascending=False)\n",
    "\n",
    "print(\"Ruta con mayor retraso promedio en la llegada:\")\n",
    "print(avg_arr_delay_by_route.head(1))\n"
   ]
  },
  {
   "cell_type": "code",
   "execution_count": 26,
   "metadata": {},
   "outputs": [
    {
     "data": {
      "image/png": "[encoded data removed]",
      "text/plain": [
       "<Figure size 1000x500 with 1 Axes>"
      ]
     },
     "metadata": {},
     "output_type": "display_data"
    },
    {
     "data": {
      "image/png": "[encoded data removed]",
      "text/plain": [
       "<Figure size 1000x500 with 2 Axes>"
      ]
     },
     "metadata": {},
     "output_type": "display_data"
    }
   ],
   "source": [
    "import matplotlib.pyplot as plt\n",
    "\n",
    "# ¿Cómo se visualiza el retraso promedio por aerolínea?\n",
    "# Gráfico de barras para retraso promedio por aerolínea\n",
    "carrier_arr_delay.plot(kind='bar', figsize=(10, 5), color='skyblue')\n",
    "plt.title('Retraso promedio de llegada por aerolínea')\n",
    "plt.xlabel('Aerolínea')\n",
    "plt.ylabel('Retraso promedio en minutos')\n",
    "plt.show()\n",
    "\n",
    "# ¿Cómo es la distribución de los retrasos de salida y llegada?\n",
    "# Histograma de los retrasos de salida y llegada\n",
    "df_flights[['DepDelay', 'ArrDelay']].hist(bins=50, figsize=(10, 5))\n",
    "plt.show()\n"
   ]
  }
 ],
 "metadata": {
  "kernelspec": {
   "display_name": "Python 3 (ipykernel)",
   "language": "python",
   "name": "python3"
  },
  "language_info": {
   "codemirror_mode": {
    "name": "ipython",
    "version": 3
   },
   "file_extension": ".py",
   "mimetype": "text/x-python",
   "name": "python",
   "nbconvert_exporter": "python",
   "pygments_lexer": "ipython3",
   "version": "3.12.1"
  }
 },
 "nbformat": 4,
 "nbformat_minor": 4
}
