{
 "cells": [
  {
   "cell_type": "markdown",
   "metadata": {},
   "source": [
    "# Aprendizaje por esfuerzo\n",
    "\n",
    "Hace referencia a las tecnicas en la cuales aprenden\n",
    "\n",
    "No tienen una base de datso de la cual aprender\n",
    "\n",
    "Entorno que establece reglas y restricciones\n",
    "\n",
    "Heuristicos\n",
    "\n",
    "Tecnicas, metodos y procedimientos inteligentes que realizan tareas que no\n",
    " son procutos  de un riguroso analisis formal, sino de conocimiento experto\n",
    " sobre la tarea\n",
    "\n",
    " Aportan soluciones a problemas con un buen rendimiento de acuerdo a la calidad de las soluciones y alos recursos empleados\n",
    " Sistemas expetros\n",
    "\n",
    "Metaheuristicos\n",
    " Estrategias generales para construir algoritmos que se encuentran por encima de las heuristicas\n",
    "\n",
    " SOn el resultado de las estrategia general de la IA aplicada a las heuristicas"
   ]
  },
  {
   "cell_type": "markdown",
   "metadata": {},
   "source": []
  }
 ],
 "metadata": {
  "language_info": {
   "name": "python"
  }
 },
 "nbformat": 4,
 "nbformat_minor": 2
}
