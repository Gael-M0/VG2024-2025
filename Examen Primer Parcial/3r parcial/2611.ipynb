{
 "cells": [
  {
   "cell_type": "markdown",
   "metadata": {},
   "source": [
    "# Algoritmos, aprendizaje supervisado\n",
    "\n",
    "Tambien conocido como aprendizaje automatico supervizado\n",
    "\n",
    "Se define por su uso de conjuntos de datos etiquetados para entrenar los algoritmos que clasifican datos o preciden resultados\n",
    "\n",
    "Algoritmos:\n",
    "Redes neuronales\n",
    "Naive Bayes\n",
    "Regresion Lineal\n",
    "Regresion Logistica\n",
    "K vecinos mas cercanos\n",
    "Maquinas de soporte vectorial\n",
    "\n",
    "# No supervisado\n",
    "No requieren clases o etiquetas asosciadas a la creacion del modelo\n",
    "\n",
    "k means\n",
    "PCA\n",
    "\n",
    "Algoritmos:\n"
   ]
  },
  {
   "cell_type": "code",
   "execution_count": null,
   "metadata": {
    "vscode": {
     "languageId": "plaintext"
    }
   },
   "outputs": [],
   "source": []
  }
 ],
 "metadata": {
  "language_info": {
   "name": "python"
  }
 },
 "nbformat": 4,
 "nbformat_minor": 2
}
