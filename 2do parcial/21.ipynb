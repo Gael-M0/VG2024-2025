{
 "cells": [
  {
   "cell_type": "markdown",
   "metadata": {},
   "source": [
    "## Inteligencia Artificial\n",
    "La ia Es una ciencia-ingenieria para el estudio de las maquinas que actuan de manera inteligente, se busca mas como que la maquina se comporte como un humano es decir:\n",
    "toma decisiones\n",
    "Tiene un feedback\n",
    "\n",
    "# Caracteristicas:\n",
    "Un sistema que es capaz de aprender por si mismo\n",
    "Un sistema capaz de mejorar de iteraciones pasadas, aprendiendo y \n",
    "mejorando sus caoacidades y su conocimiento\n",
    "\n",
    "Multitarea\n",
    "Lograr desarrpññar IA que pueda llevar varias tareas a la vez, sin \n",
    "reducir su rendimiento\n",
    "\n",
    "Hardware\n",
    "Uso de hardware no limitado en las operaciones que realice para optimizar\n"
   ]
  }
 ],
 "metadata": {
  "language_info": {
   "name": "python"
  }
 },
 "nbformat": 4,
 "nbformat_minor": 2
}
