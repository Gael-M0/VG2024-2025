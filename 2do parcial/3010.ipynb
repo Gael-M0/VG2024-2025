{
 "cells": [
  {
   "cell_type": "markdown",
   "metadata": {},
   "source": [
    "## Performance Metrics\n",
    "-No permiten identificaar los procesos de los modelos de machine learning\n",
    "\n",
    "Los utilizados para regresion o clasificacion\n",
    "- Mean Absolute Error(MAE)\n",
    "- Mean Squared Error(MSE)\n",
    "- Root Mean Squared Error\n",
    "- R^2 Coefficient of determination\n",
    "\n",
    "# Accuraccy\n",
    "\n",
    "- Numero de predicciones correctas divididas por el numero total de predicciones por 100\n",
    "\n",
    "\n",
    "Precision-Recall tradeoff\n",
    "\n",
    "No se pueden mejorar ambos\n",
    "\n",
    "AUROC \n",
    "Conocido como la curva-roc,muestra la relacion entre el radio verdaderos positivos TPR\n",
    "\n"
   ]
  }
 ],
 "metadata": {
  "language_info": {
   "name": "python"
  }
 },
 "nbformat": 4,
 "nbformat_minor": 2
}
