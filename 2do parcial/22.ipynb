{
 "cells": [
  {
   "cell_type": "code",
   "execution_count": 9,
   "metadata": {},
   "outputs": [],
   "source": [
    "import pandas as pd\n",
    "from scipy import stats\n",
    "import numpy as np\n",
    "\n",
    "# Datos: Nombre, Altura y Sexo\n",
    "data = {'Nombre': ['Fer', 'Ale', 'Alex Muñoz', 'Gael', 'Erick', 'Angie', 'Karla', 'Angel', 'Derik', 'Jose Jacal', \n",
    "                   'Leo Dorantes', 'Lalo', 'Antonio', 'Luis Hurtado', 'Cristian', 'Juve'],\n",
    "        'Altura': [180, 170, 170, 168, 165, 168, 170, 175, 174, 175, 175, 172, 170, 177, 170, 176],\n",
    "        'Sexo': ['M', 'M', 'M', 'M', 'M', 'F', 'F', 'M', 'M', 'M', 'M', 'M', 'M', 'M', 'M', 'M']}\n",
    "\n",
    "df = pd.DataFrame(data)\n",
    "\n",
    "# Separar datos por género\n",
    "mujeres = df[df['Sexo'] == 'F']['Altura']\n",
    "hombres = df[df['Sexo'] == 'M']['Altura']"
   ]
  },
  {
   "cell_type": "code",
   "execution_count": 10,
   "metadata": {},
   "outputs": [
    {
     "name": "stdout",
     "output_type": "stream",
     "text": [
      "Hipótesis 1 - Estatura media de las mujeres:\n",
      "Media observada: 169.0\n",
      "t-statistic: -6.0, p-value: 0.10513691342250685\n",
      "\n"
     ]
    }
   ],
   "source": [
    "# Hipótesis 1: Estatura media de las mujeres comparada con 175 cm\n",
    "media_mujeres = mujeres.mean()\n",
    "t_stat, p_value = stats.ttest_1samp(mujeres, 175)\n",
    "print(f\"Hipótesis 1 - Estatura media de las mujeres:\")\n",
    "print(f\"Media observada: {media_mujeres}\")\n",
    "print(f\"t-statistic: {t_stat}, p-value: {p_value}\\n\")"
   ]
  },
  {
   "cell_type": "code",
   "execution_count": 11,
   "metadata": {},
   "outputs": [
    {
     "name": "stdout",
     "output_type": "stream",
     "text": [
      "Hipótesis 2 - Desviación estándar de las mujeres:\n",
      "Desviación estándar observada: 1.4142135623730951\n",
      "Chi2-statistic: 0.020000000000000004,\n",
      " p-value: 0.887537083981715\n",
      "\n"
     ]
    }
   ],
   "source": [
    "# Hipótesis 2: Desviación estándar de la estatura de las mujeres\n",
    "desviacion_estandar_mujeres = mujeres.std()\n",
    "n_mujeres = len(mujeres)\n",
    "chi2_stat = (n_mujeres - 1) * (desviacion_estandar_mujeres**2) / (10**2)\n",
    "p_value_chi2 = 1 - stats.chi2.cdf(chi2_stat, n_mujeres - 1)\n",
    "print(f\"Hipótesis 2 - Desviación estándar de las mujeres:\")\n",
    "print(f\"Desviación estándar observada: {desviacion_estandar_mujeres}\")\n",
    "print(f\"Chi2-statistic: {chi2_stat},\\n p-value: {p_value_chi2}\\n\")"
   ]
  },
  {
   "cell_type": "code",
   "execution_count": 12,
   "metadata": {},
   "outputs": [
    {
     "name": "stdout",
     "output_type": "stream",
     "text": [
      "Hipótesis 3 - Comparación entre estatura promedio de hombres y mujeres:\n",
      "t-statistic: 1.2348580371278692,\n",
      " p-value: 0.23720767897804637\n"
     ]
    }
   ],
   "source": [
    "# Hipótesis 3: Diferencia en la estatura promedio entre hombres y mujeres\n",
    "t_stat_gender, p_value_gender = stats.ttest_ind(hombres, mujeres)\n",
    "print(f\"Hipótesis 3 - Comparación entre estatura promedio de hombres y mujeres:\")\n",
    "print(f\"t-statistic: {t_stat_gender},\\n p-value: {p_value_gender}\")"
   ]
  },
  {
   "cell_type": "markdown",
   "metadata": {},
   "source": [
    "### Conclusiones\n",
    "\n",
    "#### Hipótesis 1: Estatura media de las mujeres\n",
    "- **Media observada:** 169.0 cm\n",
    "- **t-statistic:** -6.0\n",
    "- **p-value:** 0.1051\n",
    "\n",
    "El análisis indica que la media observada de 169.0 cm para la estatura de las mujeres es considerablemente menor que el valor de referencia de 175 cm. Sin embargo, el p-value de 0.1051 es mayor que el nivel de significancia comúnmente utilizado de 0.05, lo que sugiere que no hay suficiente evidencia estadística para rechazar la hipótesis nula. Por lo tanto, no se puede concluir que la estatura media de las mujeres sea significativamente diferente de 175 cm.\n",
    "\n",
    "#### Hipótesis 2: Desviación estándar de las mujeres\n",
    "- **Desviación estándar observada:** 1.41 cm\n",
    "- **Chi2-statistic:** 0.02\n",
    "- **p-value:** 0.8875\n",
    "\n",
    "La desviación estándar observada de 1.41 cm es significativamente menor que el valor de referencia de 10 cm. El p-value de 0.8875 también es mucho mayor que 0.05, indicando que no hay evidencia suficiente para rechazar la hipótesis nula de que la desviación estándar es igual o menor que 10 cm. Esto sugiere que la variabilidad en las estaturas de las mujeres es baja y no es estadísticamente significativa.\n",
    "\n",
    "#### Hipótesis 3: Comparación entre estatura promedio de hombres y mujeres\n",
    "- **t-statistic:** 1.23\n",
    "- **p-value:** 0.2372\n",
    "\n",
    "El p-value de 0.2372 indica que no hay suficiente evidencia para rechazar la hipótesis nula que establece que no hay diferencia significativa entre la estatura promedio de hombres y mujeres. Por lo tanto, no se puede concluir que exista una diferencia en las alturas promedio entre ambos géneros en la muestra analizada.\n"
   ]
  },
  {
   "cell_type": "code",
   "execution_count": 13,
   "metadata": {},
   "outputs": [
    {
     "name": "stdout",
     "output_type": "stream",
     "text": [
      "Duración media de los vuelos: 108.64204603956755 minutos\n",
      "t-statistic: -98.35328725868298, p-value: 1.0\n"
     ]
    }
   ],
   "source": [
    "# Importamos las bibliotecas necesarias\n",
    "import pandas as pd\n",
    "from scipy import stats\n",
    "\n",
    "# Cargamos la base de datos de vuelos\n",
    "df = pd.read_csv('C:/Users/LENOVO/OneDrive/Documentos/IA/VG2024-2025/Examen Primer Parcial/flights.csv')\n",
    "\n",
    "# Convertimos las horas a formato datetime (HHMM)\n",
    "df['CRSDepTime'] = pd.to_datetime(df['CRSDepTime'].astype(str).str.zfill(4), format='%H%M', errors='coerce')\n",
    "df['CRSArrTime'] = pd.to_datetime(df['CRSArrTime'].astype(str).str.zfill(4), format='%H%M', errors='coerce')\n",
    "\n",
    "# Calculamos la duración de los vuelos (en minutos)\n",
    "df['flight_duration'] = (df['CRSArrTime'] - df['CRSDepTime']).dt.total_seconds() / 60\n",
    "\n",
    "# Eliminamos filas con valores nulos en la duración\n",
    "df = df.dropna(subset=['flight_duration'])\n",
    "\n",
    "# Calculamos la media de la duración de los vuelos\n",
    "duracion_media = df['flight_duration'].mean()\n",
    "print(f\"Duración media de los vuelos: {duracion_media} minutos\")\n",
    "\n",
    "# Realizamos la prueba t de una muestra con una duración hipotética de 150 minutos\n",
    "t_stat, p_value = stats.ttest_1samp(df['flight_duration'], 150, alternative='greater')\n",
    "print(f\"t-statistic: {t_stat}, p-value: {p_value}\")\n"
   ]
  },
  {
   "cell_type": "markdown",
   "metadata": {},
   "source": [
    "### Hipótesis 1: La duración media de los vuelos es mayor a 150 minutos.\n",
    "\n",
    "- **Duración media observada:** 108.64 minutos\n",
    "- **t-statistic:** -98.35\n",
    "- **p-value:** 1.0\n",
    "\n",
    "**Conclusión**:  \n",
    "Dado que el valor p es **mayor** a 0.05, no podemos rechazar la hipótesis nula. Esto significa que no hay suficiente evidencia para concluir que la duración media de los vuelos es significativamente mayor a 150 minutos. De hecho, la duración media es menor a 150 minutos.\n"
   ]
  },
  {
   "cell_type": "code",
   "execution_count": 16,
   "metadata": {},
   "outputs": [
    {
     "name": "stdout",
     "output_type": "stream",
     "text": [
      "Proporción de vuelos que salen tarde y también llegan tarde: 80.27%\n",
      "Chi-cuadrado: 148931.5733700368, p-value: 0.0\n"
     ]
    }
   ],
   "source": [
    "# Crear una columna 'DepDelay15' si no existe\n",
    "df['DepDelay15'] = df['DepDelay'] > 15\n",
    "df['DepDelay15'] = df['DepDelay15'].astype(int)  # Convertimos a 1 y 0\n",
    "\n",
    "# Crear una columna 'ArrDelay15' si no existe\n",
    "df['ArrDelay15'] = df['ArrDelay'] > 15\n",
    "df['ArrDelay15'] = df['ArrDelay15'].astype(int)\n",
    "\n",
    "# Filtramos los vuelos con más de 15 minutos de retraso en la salida\n",
    "vuelos_retraso_salida = df[df['DepDelay15'] == 1]\n",
    "\n",
    "# Calculamos la proporción de esos vuelos que también llegan con más de 15 minutos de retraso\n",
    "proporcion_llegan_tarde = vuelos_retraso_salida['ArrDelay15'].mean() * 100\n",
    "print(f\"Proporción de vuelos que salen tarde y también llegan tarde: {proporcion_llegan_tarde:.2f}%\")\n",
    "\n",
    "# Creación de tabla de contingencia para vuelos que salen tarde y llegan tarde\n",
    "tabla_contingencia = pd.crosstab(df['DepDelay15'], df['ArrDelay15'])\n",
    "\n",
    "# Realizamos la prueba chi-cuadrado\n",
    "chi2_stat, p_val, dof, expected = stats.chi2_contingency(tabla_contingencia)\n",
    "print(f\"Chi-cuadrado: {chi2_stat}, p-value: {p_val}\")\n"
   ]
  },
  {
   "cell_type": "markdown",
   "metadata": {},
   "source": [
    "### Hipótesis 2: La proporción de vuelos que salen tarde y también llegan tarde.\n",
    "\n",
    "- **Proporción observada de vuelos que salen tarde y también llegan tarde:** 80.27%\n",
    "- **Chi-cuadrado:** 148931.57\n",
    "- **p-value:** 0.0\n",
    "\n",
    "**Conclusión**:  \n",
    "Dado que el valor p es **0.0**, que es mucho menor a 0.05, rechazamos la hipótesis nula. Esto indica que existe una **asociación significativa** entre los vuelos que salen tarde y los que llegan tarde. En otras palabras, es muy probable que los vuelos que salen tarde también lleguen tarde.\n"
   ]
  },
  {
   "cell_type": "code",
   "execution_count": 15,
   "metadata": {},
   "outputs": [
    {
     "name": "stdout",
     "output_type": "stream",
     "text": [
      "Tasa de cancelación por aerolínea:\n",
      "Carrier\n",
      "9E    0.032153\n",
      "AA    0.013132\n",
      "AS    0.001922\n",
      "B6    0.003472\n",
      "DL    0.002105\n",
      "EV    0.027571\n",
      "F9    0.001413\n",
      "FL    0.006714\n",
      "HA    0.001064\n",
      "MQ    0.038185\n",
      "OO    0.016933\n",
      "UA    0.008260\n",
      "US    0.007886\n",
      "VX    0.001131\n",
      "WN    0.006516\n",
      "YV    0.021963\n",
      "Name: Cancelled, dtype: float64\n",
      "Chi-cuadrado: 2328.818847866179, p-value: 0.0\n"
     ]
    }
   ],
   "source": [
    "# Hipótesis 3: Las aerolíneas tienen un porcentaje diferente de vuelos cancelados\n",
    "# Calculamos la tasa de cancelación por aerolínea\n",
    "cancelaciones_por_aerolinea = df.groupby('Carrier')['Cancelled'].mean()\n",
    "\n",
    "# Imprimimos la tasa de cancelación por aerolínea\n",
    "print(\"Tasa de cancelación por aerolínea:\")\n",
    "print(cancelaciones_por_aerolinea)\n",
    "\n",
    "# Prueba de chi para comparar las cancelaciones entre aerolíneas\n",
    "cancelaciones_contingencia = pd.crosstab(df['Carrier'], df['Cancelled'])\n",
    "chi2_stat, p_val, dof, ex = stats.chi2_contingency(cancelaciones_contingencia)\n",
    "print(f\"Chi-cuadrado: {chi2_stat}, p-value: {p_val}\")\n"
   ]
  },
  {
   "cell_type": "markdown",
   "metadata": {},
   "source": [
    "### Hipótesis 3: La tasa de cancelación varía significativamente entre las aerolíneas.\n",
    "\n",
    "- **Tasa de cancelación por aerolínea:** (Ejemplo)\n",
    "  - MQ: 3.82%\n",
    "  - 9E: 3.22%\n",
    "  - EV: 2.76%\n",
    "  - YV: 2.20%\n",
    "  - AA: 1.31%\n",
    "  - DL: 0.21%\n",
    "  - Otros: Varían entre 0.1% y 1.7%\n",
    "- **Chi-cuadrado:** 2328.82\n",
    "- **p-value:** 0.0\n",
    "\n",
    "**Conclusión**:  \n",
    "Dado que el valor p es extremadamente bajo (0.0), rechazamos la hipótesis nula y concluimos que **existe una diferencia significativa en las tasas de cancelación entre las distintas aerolíneas**. Algunas aerolíneas tienen una tasa de cancelación significativamente mayor que otras."
   ]
  }
 ],
 "metadata": {
  "kernelspec": {
   "display_name": "Python 3",
   "language": "python",
   "name": "python3"
  },
  "language_info": {
   "codemirror_mode": {
    "name": "ipython",
    "version": 3
   },
   "file_extension": ".py",
   "mimetype": "text/x-python",
   "name": "python",
   "nbconvert_exporter": "python",
   "pygments_lexer": "ipython3",
   "version": "3.12.1"
  }
 },
 "nbformat": 4,
 "nbformat_minor": 2
}
