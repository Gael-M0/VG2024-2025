{
 "cells": [
  {
   "cell_type": "code",
   "execution_count": 6,
   "metadata": {},
   "outputs": [],
   "source": [
    "import pandas as pd\n",
    "from scipy import stats\n",
    "import numpy as np\n",
    "\n",
    "# Datos: Nombre, Altura y Sexo\n",
    "data = {'Nombre': ['Fer', 'Ale', 'Alex Muñoz', 'Gael', 'Erick', 'Angie', 'Karla', 'Angel', 'Derik', 'Jose Jacal', \n",
    "                   'Leo Dorantes', 'Lalo', 'Antonio', 'Luis Hurtado', 'Cristian', 'Juve'],\n",
    "        'Altura': [180, 170, 170, 168, 165, 168, 170, 175, 174, 175, 175, 172, 170, 177, 170, 176],\n",
    "        'Sexo': ['M', 'M', 'M', 'M', 'M', 'F', 'F', 'M', 'M', 'M', 'M', 'M', 'M', 'M', 'M', 'M']}\n",
    "\n",
    "df = pd.DataFrame(data)\n",
    "\n",
    "# Separar datos por género\n",
    "mujeres = df[df['Sexo'] == 'F']['Altura']\n",
    "hombres = df[df['Sexo'] == 'M']['Altura']"
   ]
  },
  {
   "cell_type": "code",
   "execution_count": 12,
   "metadata": {},
   "outputs": [
    {
     "name": "stdout",
     "output_type": "stream",
     "text": [
      "Hipótesis 1 - Estatura media de las mujeres:\n",
      "Media observada: 169.0\n",
      "t-statistic: -6.0, p-value: 0.10513691342250685\n",
      "\n"
     ]
    }
   ],
   "source": [
    "# Hipótesis 1: Estatura media de las mujeres comparada con 175 cm\n",
    "media_mujeres = mujeres.mean()\n",
    "t_stat, p_value = stats.ttest_1samp(mujeres, 175)\n",
    "print(f\"Hipótesis 1 - Estatura media de las mujeres:\")\n",
    "print(f\"Media observada: {media_mujeres}\")\n",
    "print(f\"t-statistic: {t_stat}, p-value: {p_value}\\n\")"
   ]
  },
  {
   "cell_type": "code",
   "execution_count": 11,
   "metadata": {},
   "outputs": [
    {
     "name": "stdout",
     "output_type": "stream",
     "text": [
      "Hipótesis 2 - Desviación estándar de las mujeres:\n",
      "Desviación estándar observada: 1.4142135623730951\n",
      "Chi2-statistic: 0.020000000000000004,\n",
      " p-value: 0.887537083981715\n",
      "\n"
     ]
    }
   ],
   "source": [
    "# Hipótesis 2: Desviación estándar de la estatura de las mujeres\n",
    "desviacion_estandar_mujeres = mujeres.std()\n",
    "n_mujeres = len(mujeres)\n",
    "chi2_stat = (n_mujeres - 1) * (desviacion_estandar_mujeres**2) / (10**2)\n",
    "p_value_chi2 = 1 - stats.chi2.cdf(chi2_stat, n_mujeres - 1)\n",
    "print(f\"Hipótesis 2 - Desviación estándar de las mujeres:\")\n",
    "print(f\"Desviación estándar observada: {desviacion_estandar_mujeres}\")\n",
    "print(f\"Chi2-statistic: {chi2_stat},\\n p-value: {p_value_chi2}\\n\")"
   ]
  },
  {
   "cell_type": "code",
   "execution_count": 10,
   "metadata": {},
   "outputs": [
    {
     "name": "stdout",
     "output_type": "stream",
     "text": [
      "Hipótesis 3 - Comparación entre estatura promedio de hombres y mujeres:\n",
      "t-statistic: 1.2348580371278692,\n",
      " p-value: 0.23720767897804637\n"
     ]
    }
   ],
   "source": [
    "# Hipótesis 3: Diferencia en la estatura promedio entre hombres y mujeres\n",
    "t_stat_gender, p_value_gender = stats.ttest_ind(hombres, mujeres)\n",
    "print(f\"Hipótesis 3 - Comparación entre estatura promedio de hombres y mujeres:\")\n",
    "print(f\"t-statistic: {t_stat_gender},\\n p-value: {p_value_gender}\")"
   ]
  },
  {
   "cell_type": "markdown",
   "metadata": {},
   "source": [
    "### Conclusiones\n",
    "\n",
    "#### Hipótesis 1: Estatura media de las mujeres\n",
    "- **Media observada:** 169.0 cm\n",
    "- **t-statistic:** -6.0\n",
    "- **p-value:** 0.1051\n",
    "\n",
    "El análisis indica que la media observada de 169.0 cm para la estatura de las mujeres es considerablemente menor que el valor de referencia de 175 cm. Sin embargo, el p-value de 0.1051 es mayor que el nivel de significancia comúnmente utilizado de 0.05, lo que sugiere que no hay suficiente evidencia estadística para rechazar la hipótesis nula. Por lo tanto, no se puede concluir que la estatura media de las mujeres sea significativamente diferente de 175 cm.\n",
    "\n",
    "#### Hipótesis 2: Desviación estándar de las mujeres\n",
    "- **Desviación estándar observada:** 1.41 cm\n",
    "- **Chi2-statistic:** 0.02\n",
    "- **p-value:** 0.8875\n",
    "\n",
    "La desviación estándar observada de 1.41 cm es significativamente menor que el valor de referencia de 10 cm. El p-value de 0.8875 también es mucho mayor que 0.05, indicando que no hay evidencia suficiente para rechazar la hipótesis nula de que la desviación estándar es igual o menor que 10 cm. Esto sugiere que la variabilidad en las estaturas de las mujeres es baja y no es estadísticamente significativa.\n",
    "\n",
    "#### Hipótesis 3: Comparación entre estatura promedio de hombres y mujeres\n",
    "- **t-statistic:** 1.23\n",
    "- **p-value:** 0.2372\n",
    "\n",
    "El p-value de 0.2372 indica que no hay suficiente evidencia para rechazar la hipótesis nula que establece que no hay diferencia significativa entre la estatura promedio de hombres y mujeres. Por lo tanto, no se puede concluir que exista una diferencia en las alturas promedio entre ambos géneros en la muestra analizada.\n"
   ]
  }
 ],
 "metadata": {
  "kernelspec": {
   "display_name": "Python 3",
   "language": "python",
   "name": "python3"
  },
  "language_info": {
   "codemirror_mode": {
    "name": "ipython",
    "version": 3
   },
   "file_extension": ".py",
   "mimetype": "text/x-python",
   "name": "python",
   "nbconvert_exporter": "python",
   "pygments_lexer": "ipython3",
   "version": "3.12.1"
  }
 },
 "nbformat": 4,
 "nbformat_minor": 2
}
