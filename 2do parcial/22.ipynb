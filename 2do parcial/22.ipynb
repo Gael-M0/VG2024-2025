{
 "cells": [
  {
   "cell_type": "code",
   "execution_count": 1,
   "metadata": {},
   "outputs": [],
   "source": [
    "# Importar bibliotecas necesarias\n",
    "import numpy as np\n",
    "import scipy.stats as stats\n",
    "\n",
    "# Datos de estaturas de los estudiantes (puedes ajustar según tus datos)\n",
    "estaturas = np.array([180, 170, 170, 168, 165, 168, 170, 170, 174, 175, 171, 170, 177])\n",
    "\n",
    "# Identificación de género (0 para hombres, 1 para mujeres)\n",
    "generos = np.array([0, 1, 0, 0, 0, 1, 1, 0, 0, 0, 0, 0, 0])  # Ajustar según tus datos\n",
    "\n",
    "# Separar por género\n",
    "estaturas_hombres = estaturas[generos == 0]\n",
    "estaturas_mujeres = estaturas[generos == 1]\n"
   ]
  },
  {
   "cell_type": "code",
   "execution_count": 2,
   "metadata": {},
   "outputs": [
    {
     "name": "stdout",
     "output_type": "stream",
     "text": [
      "Hipótesis 1 - t-statistic: -8.499999999999986, p-value: 0.013559949584378964\n"
     ]
    }
   ],
   "source": [
    "# Hipótesis 1: Prueba t de una muestra para mujeres contra 175 cm\n",
    "media_mujeres = np.mean(estaturas_mujeres)\n",
    "t_stat, p_value = stats.ttest_1samp(estaturas_mujeres, 175)\n",
    "\n",
    "# Mostrar resultados de la prueba t\n",
    "print(f\"Hipótesis 1 - t-statistic: {t_stat}, p-value: {p_value}\")\n"
   ]
  },
  {
   "cell_type": "code",
   "execution_count": 3,
   "metadata": {},
   "outputs": [
    {
     "name": "stdout",
     "output_type": "stream",
     "text": [
      "Hipótesis 2 - Chi2-statistic: 0.026666666666666665, p-value: 0.9867551618071957\n"
     ]
    }
   ],
   "source": [
    "# Hipótesis 2: Prueba de varianza (Chi-cuadrado)\n",
    "desviacion_estandar_mujeres = np.std(estaturas_mujeres, ddof=1)\n",
    "n_mujeres = len(estaturas_mujeres)\n",
    "chi2_stat = (n_mujeres - 1) * desviacion_estandar_mujeres**2 / 10**2\n",
    "p_value_chi2 = 1 - stats.chi2.cdf(chi2_stat, df=n_mujeres-1)\n",
    "\n",
    "# Mostrar resultados de la prueba Chi-cuadrado\n",
    "print(f\"Hipótesis 2 - Chi2-statistic: {chi2_stat}, p-value: {p_value_chi2}\")\n"
   ]
  },
  {
   "cell_type": "code",
   "execution_count": 4,
   "metadata": {},
   "outputs": [
    {
     "name": "stdout",
     "output_type": "stream",
     "text": [
      "Hipótesis 3 - t-statistic: 1.7056057308448773, p-value: 0.11612225518460632\n"
     ]
    }
   ],
   "source": [
    "# Hipótesis 3: Prueba t para dos muestras independientes (hombres vs mujeres)\n",
    "t_stat_2, p_value_2 = stats.ttest_ind(estaturas_hombres, estaturas_mujeres, equal_var=False)\n",
    "\n",
    "# Mostrar resultados de la prueba t para dos muestras\n",
    "print(f\"Hipótesis 3 - t-statistic: {t_stat_2}, p-value: {p_value_2}\")\n"
   ]
  }
 ],
 "metadata": {
  "kernelspec": {
   "display_name": "Python 3",
   "language": "python",
   "name": "python3"
  },
  "language_info": {
   "codemirror_mode": {
    "name": "ipython",
    "version": 3
   },
   "file_extension": ".py",
   "mimetype": "text/x-python",
   "name": "python",
   "nbconvert_exporter": "python",
   "pygments_lexer": "ipython3",
   "version": "3.12.1"
  }
 },
 "nbformat": 4,
 "nbformat_minor": 2
}
