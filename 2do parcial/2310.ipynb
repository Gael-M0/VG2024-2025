{
 "cells": [
  {
   "cell_type": "markdown",
   "metadata": {},
   "source": [
    "# Dataseets\n",
    "Un conjunto de datos o de informacion para entrenar un modelo\n",
    "de IA o de ML\n",
    "- Dataset de Texto\n",
    "- Dataset Numerico\n",
    "- Dataset de Imagenes\n",
    "- Dataset de Audio\n",
    "- Dataset de Video\n",
    "\n",
    "Machine learning\n",
    "Supervisado y el no supervisado\n",
    "- Supervisado: el modelo aprende de un conjunto de datos de entrenamiento con etiquetas\n",
    "- No supervisado: el modelo aprende de un conjunto de datos sin etiquetas\n",
    "\n",
    "Primera caracteristica- Tipo de modelo\n",
    "- Etiquetar los datos o no dependendiendo del algoritmo, ya que \n",
    "dependiendo del modelo necesita o no un feedback\n",
    "- Preparacion de datos\n",
    "\n",
    "# Etiquetado de datos\n",
    "Tags -\n",
    "Estaregias para etiquetar\n",
    "- Etiquetado manual\n",
    "- Etiquetado por Machine Learning\n",
    "\n",
    "# Machine Learning Supervisado\n",
    "- Clasificacion Asigna una categoria a cada uno de los registros de byestri dataset\n",
    "- Regresion. Establece la relacion entre variables dependeintes e independientes\n",
    "\n",
    "# Regresion lineal\n",
    "es una técnica estadística y de aprendizaje automático utilizada para modelar y analizar la relación entre una variable dependiente (o de respuesta) y una o más variables independientes (o predictoras). Su objetivo principal es encontrar la línea recta que mejor ajuste los datos en un conjunto, de modo que se pueda predecir la variable dependiente a partir de las variables independientes.\n",
    "\n",
    "\n"
   ]
  }
 ],
 "metadata": {
  "language_info": {
   "name": "python"
  }
 },
 "nbformat": 4,
 "nbformat_minor": 2
}
